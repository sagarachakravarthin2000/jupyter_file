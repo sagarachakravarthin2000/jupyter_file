{
 "cells": [
  {
   "cell_type": "code",
   "execution_count": 1,
   "id": "3f7871fa",
   "metadata": {},
   "outputs": [],
   "source": [
    "import numpy as np\n",
    "import pandas as pd\n",
    "import matplotlib.pyplot as plt\n",
    "from sklearn.preprocessing import StandardScaler\n",
    "from sklearn.model_selection import train_test_split\n",
    "from sklearn.neighbors import KNeighborsRegressor\n",
    "from sklearn.metrics import mean_squared_error, r2_score"
   ]
  },
  {
   "cell_type": "code",
   "execution_count": 2,
   "id": "94ae7ba1",
   "metadata": {},
   "outputs": [],
   "source": [
    "df=pd.read_csv('slump.csv')"
   ]
  },
  {
   "cell_type": "code",
   "execution_count": 3,
   "id": "3f26ba7b",
   "metadata": {},
   "outputs": [
    {
     "data": {
      "text/html": [
       "<div>\n",
       "<style scoped>\n",
       "    .dataframe tbody tr th:only-of-type {\n",
       "        vertical-align: middle;\n",
       "    }\n",
       "\n",
       "    .dataframe tbody tr th {\n",
       "        vertical-align: top;\n",
       "    }\n",
       "\n",
       "    .dataframe thead th {\n",
       "        text-align: right;\n",
       "    }\n",
       "</style>\n",
       "<table border=\"1\" class=\"dataframe\">\n",
       "  <thead>\n",
       "    <tr style=\"text-align: right;\">\n",
       "      <th></th>\n",
       "      <th>Cement</th>\n",
       "      <th>Slag</th>\n",
       "      <th>Fly ash</th>\n",
       "      <th>Water</th>\n",
       "      <th>SP</th>\n",
       "      <th>Coarse</th>\n",
       "      <th>Fine</th>\n",
       "      <th>SLUMP</th>\n",
       "      <th>FLOW</th>\n",
       "      <th>Strength</th>\n",
       "    </tr>\n",
       "  </thead>\n",
       "  <tbody>\n",
       "    <tr>\n",
       "      <th>0</th>\n",
       "      <td>273.0</td>\n",
       "      <td>82.0</td>\n",
       "      <td>105.0</td>\n",
       "      <td>210.0</td>\n",
       "      <td>9.0</td>\n",
       "      <td>904.0</td>\n",
       "      <td>680.0</td>\n",
       "      <td>23.0</td>\n",
       "      <td>62.0</td>\n",
       "      <td>34.99</td>\n",
       "    </tr>\n",
       "    <tr>\n",
       "      <th>1</th>\n",
       "      <td>163.0</td>\n",
       "      <td>149.0</td>\n",
       "      <td>191.0</td>\n",
       "      <td>180.0</td>\n",
       "      <td>12.0</td>\n",
       "      <td>843.0</td>\n",
       "      <td>746.0</td>\n",
       "      <td>0.0</td>\n",
       "      <td>20.0</td>\n",
       "      <td>41.14</td>\n",
       "    </tr>\n",
       "    <tr>\n",
       "      <th>2</th>\n",
       "      <td>162.0</td>\n",
       "      <td>148.0</td>\n",
       "      <td>191.0</td>\n",
       "      <td>179.0</td>\n",
       "      <td>16.0</td>\n",
       "      <td>840.0</td>\n",
       "      <td>743.0</td>\n",
       "      <td>1.0</td>\n",
       "      <td>20.0</td>\n",
       "      <td>41.81</td>\n",
       "    </tr>\n",
       "    <tr>\n",
       "      <th>3</th>\n",
       "      <td>162.0</td>\n",
       "      <td>148.0</td>\n",
       "      <td>190.0</td>\n",
       "      <td>179.0</td>\n",
       "      <td>19.0</td>\n",
       "      <td>838.0</td>\n",
       "      <td>741.0</td>\n",
       "      <td>3.0</td>\n",
       "      <td>21.5</td>\n",
       "      <td>42.08</td>\n",
       "    </tr>\n",
       "    <tr>\n",
       "      <th>4</th>\n",
       "      <td>154.0</td>\n",
       "      <td>112.0</td>\n",
       "      <td>144.0</td>\n",
       "      <td>220.0</td>\n",
       "      <td>10.0</td>\n",
       "      <td>923.0</td>\n",
       "      <td>658.0</td>\n",
       "      <td>20.0</td>\n",
       "      <td>64.0</td>\n",
       "      <td>26.82</td>\n",
       "    </tr>\n",
       "  </tbody>\n",
       "</table>\n",
       "</div>"
      ],
      "text/plain": [
       "   Cement   Slag  Fly ash  Water    SP  Coarse   Fine  SLUMP  FLOW  Strength\n",
       "0   273.0   82.0    105.0  210.0   9.0   904.0  680.0   23.0  62.0     34.99\n",
       "1   163.0  149.0    191.0  180.0  12.0   843.0  746.0    0.0  20.0     41.14\n",
       "2   162.0  148.0    191.0  179.0  16.0   840.0  743.0    1.0  20.0     41.81\n",
       "3   162.0  148.0    190.0  179.0  19.0   838.0  741.0    3.0  21.5     42.08\n",
       "4   154.0  112.0    144.0  220.0  10.0   923.0  658.0   20.0  64.0     26.82"
      ]
     },
     "execution_count": 3,
     "metadata": {},
     "output_type": "execute_result"
    }
   ],
   "source": [
    "df.head()"
   ]
  },
  {
   "cell_type": "code",
   "execution_count": 4,
   "id": "9d7e40b8",
   "metadata": {},
   "outputs": [
    {
     "data": {
      "text/plain": [
       "(103, 10)"
      ]
     },
     "execution_count": 4,
     "metadata": {},
     "output_type": "execute_result"
    }
   ],
   "source": [
    "df.shape"
   ]
  },
  {
   "cell_type": "code",
   "execution_count": 5,
   "id": "876dcaee",
   "metadata": {},
   "outputs": [
    {
     "data": {
      "text/plain": [
       "Cement      0\n",
       "Slag        0\n",
       "Fly ash     0\n",
       "Water       0\n",
       "SP          0\n",
       "Coarse      0\n",
       "Fine        0\n",
       "SLUMP       0\n",
       "FLOW        0\n",
       "Strength    0\n",
       "dtype: int64"
      ]
     },
     "execution_count": 5,
     "metadata": {},
     "output_type": "execute_result"
    }
   ],
   "source": [
    "df.isnull().sum()"
   ]
  },
  {
   "cell_type": "code",
   "execution_count": 6,
   "id": "ca0d16d2",
   "metadata": {},
   "outputs": [
    {
     "data": {
      "text/plain": [
       "Cement      float64\n",
       "Slag        float64\n",
       "Fly ash     float64\n",
       "Water       float64\n",
       "SP          float64\n",
       "Coarse      float64\n",
       "Fine        float64\n",
       "SLUMP       float64\n",
       "FLOW        float64\n",
       "Strength    float64\n",
       "dtype: object"
      ]
     },
     "execution_count": 6,
     "metadata": {},
     "output_type": "execute_result"
    }
   ],
   "source": [
    "df.dtypes"
   ]
  },
  {
   "cell_type": "code",
   "execution_count": 7,
   "id": "1e404785",
   "metadata": {},
   "outputs": [
    {
     "data": {
      "image/png": "[encoded data removed]",
      "text/plain": [
       "<Figure size 1080x1800 with 10 Axes>"
      ]
     },
     "metadata": {
      "needs_background": "light"
     },
     "output_type": "display_data"
    }
   ],
   "source": [
    "plt.figure(figsize = (15,25))\n",
    "count = 1\n",
    "for col in df:\n",
    "    plt.subplot(5,2,count)\n",
    "    plt.boxplot(df[col])\n",
    "    plt.title(col)\n",
    "    count +=1    \n",
    "plt.show()"
   ]
  },
  {
   "cell_type": "code",
   "execution_count": 12,
   "id": "600dc87c",
   "metadata": {},
   "outputs": [
    {
     "data": {
      "text/html": [
       "<div>\n",
       "<style scoped>\n",
       "    .dataframe tbody tr th:only-of-type {\n",
       "        vertical-align: middle;\n",
       "    }\n",
       "\n",
       "    .dataframe tbody tr th {\n",
       "        vertical-align: top;\n",
       "    }\n",
       "\n",
       "    .dataframe thead th {\n",
       "        text-align: right;\n",
       "    }\n",
       "</style>\n",
       "<table border=\"1\" class=\"dataframe\">\n",
       "  <thead>\n",
       "    <tr style=\"text-align: right;\">\n",
       "      <th></th>\n",
       "      <th>Cement</th>\n",
       "      <th>Slag</th>\n",
       "      <th>Fly ash</th>\n",
       "      <th>Water</th>\n",
       "      <th>SP</th>\n",
       "      <th>Coarse</th>\n",
       "      <th>Fine</th>\n",
       "      <th>SLUMP</th>\n",
       "      <th>FLOW</th>\n",
       "      <th>Strength</th>\n",
       "    </tr>\n",
       "  </thead>\n",
       "  <tbody>\n",
       "    <tr>\n",
       "      <th>Cement</th>\n",
       "      <td>1.000000</td>\n",
       "      <td>-0.243553</td>\n",
       "      <td>-0.486535</td>\n",
       "      <td>0.221091</td>\n",
       "      <td>-0.106387</td>\n",
       "      <td>-0.309857</td>\n",
       "      <td>0.056959</td>\n",
       "      <td>0.145913</td>\n",
       "      <td>0.186461</td>\n",
       "      <td>0.445725</td>\n",
       "    </tr>\n",
       "    <tr>\n",
       "      <th>Slag</th>\n",
       "      <td>-0.243553</td>\n",
       "      <td>1.000000</td>\n",
       "      <td>-0.322619</td>\n",
       "      <td>-0.026775</td>\n",
       "      <td>0.306504</td>\n",
       "      <td>-0.223792</td>\n",
       "      <td>-0.183522</td>\n",
       "      <td>-0.284037</td>\n",
       "      <td>-0.327231</td>\n",
       "      <td>-0.331588</td>\n",
       "    </tr>\n",
       "    <tr>\n",
       "      <th>Fly ash</th>\n",
       "      <td>-0.486535</td>\n",
       "      <td>-0.322619</td>\n",
       "      <td>1.000000</td>\n",
       "      <td>-0.241321</td>\n",
       "      <td>-0.143508</td>\n",
       "      <td>0.172620</td>\n",
       "      <td>-0.282854</td>\n",
       "      <td>-0.118621</td>\n",
       "      <td>-0.055423</td>\n",
       "      <td>0.444393</td>\n",
       "    </tr>\n",
       "    <tr>\n",
       "      <th>Water</th>\n",
       "      <td>0.221091</td>\n",
       "      <td>-0.026775</td>\n",
       "      <td>-0.241321</td>\n",
       "      <td>1.000000</td>\n",
       "      <td>-0.155456</td>\n",
       "      <td>-0.602201</td>\n",
       "      <td>0.114591</td>\n",
       "      <td>0.466568</td>\n",
       "      <td>0.632026</td>\n",
       "      <td>-0.254235</td>\n",
       "    </tr>\n",
       "    <tr>\n",
       "      <th>SP</th>\n",
       "      <td>-0.106387</td>\n",
       "      <td>0.306504</td>\n",
       "      <td>-0.143508</td>\n",
       "      <td>-0.155456</td>\n",
       "      <td>1.000000</td>\n",
       "      <td>-0.104159</td>\n",
       "      <td>0.058290</td>\n",
       "      <td>-0.212902</td>\n",
       "      <td>-0.176314</td>\n",
       "      <td>-0.037871</td>\n",
       "    </tr>\n",
       "    <tr>\n",
       "      <th>Coarse</th>\n",
       "      <td>-0.309857</td>\n",
       "      <td>-0.223792</td>\n",
       "      <td>0.172620</td>\n",
       "      <td>-0.602201</td>\n",
       "      <td>-0.104159</td>\n",
       "      <td>1.000000</td>\n",
       "      <td>-0.488537</td>\n",
       "      <td>-0.188157</td>\n",
       "      <td>-0.325787</td>\n",
       "      <td>-0.160684</td>\n",
       "    </tr>\n",
       "    <tr>\n",
       "      <th>Fine</th>\n",
       "      <td>0.056959</td>\n",
       "      <td>-0.183522</td>\n",
       "      <td>-0.282854</td>\n",
       "      <td>0.114591</td>\n",
       "      <td>0.058290</td>\n",
       "      <td>-0.488537</td>\n",
       "      <td>1.000000</td>\n",
       "      <td>0.202272</td>\n",
       "      <td>0.190370</td>\n",
       "      <td>-0.154484</td>\n",
       "    </tr>\n",
       "    <tr>\n",
       "      <th>SLUMP</th>\n",
       "      <td>0.145913</td>\n",
       "      <td>-0.284037</td>\n",
       "      <td>-0.118621</td>\n",
       "      <td>0.466568</td>\n",
       "      <td>-0.212902</td>\n",
       "      <td>-0.188157</td>\n",
       "      <td>0.202272</td>\n",
       "      <td>1.000000</td>\n",
       "      <td>0.906135</td>\n",
       "      <td>-0.223358</td>\n",
       "    </tr>\n",
       "    <tr>\n",
       "      <th>FLOW</th>\n",
       "      <td>0.186461</td>\n",
       "      <td>-0.327231</td>\n",
       "      <td>-0.055423</td>\n",
       "      <td>0.632026</td>\n",
       "      <td>-0.176314</td>\n",
       "      <td>-0.325787</td>\n",
       "      <td>0.190370</td>\n",
       "      <td>0.906135</td>\n",
       "      <td>1.000000</td>\n",
       "      <td>-0.124029</td>\n",
       "    </tr>\n",
       "    <tr>\n",
       "      <th>Strength</th>\n",
       "      <td>0.445725</td>\n",
       "      <td>-0.331588</td>\n",
       "      <td>0.444393</td>\n",
       "      <td>-0.254235</td>\n",
       "      <td>-0.037871</td>\n",
       "      <td>-0.160684</td>\n",
       "      <td>-0.154484</td>\n",
       "      <td>-0.223358</td>\n",
       "      <td>-0.124029</td>\n",
       "      <td>1.000000</td>\n",
       "    </tr>\n",
       "  </tbody>\n",
       "</table>\n",
       "</div>"
      ],
      "text/plain": [
       "            Cement      Slag   Fly ash     Water        SP    Coarse  \\\n",
       "Cement    1.000000 -0.243553 -0.486535  0.221091 -0.106387 -0.309857   \n",
       "Slag     -0.243553  1.000000 -0.322619 -0.026775  0.306504 -0.223792   \n",
       "Fly ash  -0.486535 -0.322619  1.000000 -0.241321 -0.143508  0.172620   \n",
       "Water     0.221091 -0.026775 -0.241321  1.000000 -0.155456 -0.602201   \n",
       "SP       -0.106387  0.306504 -0.143508 -0.155456  1.000000 -0.104159   \n",
       "Coarse   -0.309857 -0.223792  0.172620 -0.602201 -0.104159  1.000000   \n",
       "Fine      0.056959 -0.183522 -0.282854  0.114591  0.058290 -0.488537   \n",
       "SLUMP     0.145913 -0.284037 -0.118621  0.466568 -0.212902 -0.188157   \n",
       "FLOW      0.186461 -0.327231 -0.055423  0.632026 -0.176314 -0.325787   \n",
       "Strength  0.445725 -0.331588  0.444393 -0.254235 -0.037871 -0.160684   \n",
       "\n",
       "              Fine     SLUMP      FLOW  Strength  \n",
       "Cement    0.056959  0.145913  0.186461  0.445725  \n",
       "Slag     -0.183522 -0.284037 -0.327231 -0.331588  \n",
       "Fly ash  -0.282854 -0.118621 -0.055423  0.444393  \n",
       "Water     0.114591  0.466568  0.632026 -0.254235  \n",
       "SP        0.058290 -0.212902 -0.176314 -0.037871  \n",
       "Coarse   -0.488537 -0.188157 -0.325787 -0.160684  \n",
       "Fine      1.000000  0.202272  0.190370 -0.154484  \n",
       "SLUMP     0.202272  1.000000  0.906135 -0.223358  \n",
       "FLOW      0.190370  0.906135  1.000000 -0.124029  \n",
       "Strength -0.154484 -0.223358 -0.124029  1.000000  "
      ]
     },
     "execution_count": 12,
     "metadata": {},
     "output_type": "execute_result"
    }
   ],
   "source": [
    "df.corr()"
   ]
  },
  {
   "cell_type": "code",
   "execution_count": 18,
   "id": "2fa9ad30",
   "metadata": {},
   "outputs": [],
   "source": [
    "x = df.iloc[:,:-1].values\n",
    "y = df.iloc[:,-1].values"
   ]
  },
  {
   "cell_type": "code",
   "execution_count": 22,
   "id": "8701b859",
   "metadata": {},
   "outputs": [
    {
     "data": {
      "text/plain": [
       "(103, 9)"
      ]
     },
     "execution_count": 22,
     "metadata": {},
     "output_type": "execute_result"
    }
   ],
   "source": [
    "x.shape"
   ]
  },
  {
   "cell_type": "code",
   "execution_count": 23,
   "id": "9f3e94bb",
   "metadata": {},
   "outputs": [
    {
     "data": {
      "text/plain": [
       "(103,)"
      ]
     },
     "execution_count": 23,
     "metadata": {},
     "output_type": "execute_result"
    }
   ],
   "source": [
    "y.shape"
   ]
  },
  {
   "cell_type": "code",
   "execution_count": 24,
   "id": "6f29c288",
   "metadata": {},
   "outputs": [],
   "source": [
    "y=y.reshape(-1,1)"
   ]
  },
  {
   "cell_type": "code",
   "execution_count": 29,
   "id": "fd9669c7",
   "metadata": {},
   "outputs": [],
   "source": [
    "sc=StandardScaler()\n",
    "x=sc.fit_transform(x)"
   ]
  },
  {
   "cell_type": "code",
   "execution_count": 30,
   "id": "731801bc",
   "metadata": {},
   "outputs": [],
   "source": [
    "x_train,x_test,y_train,y_test = train_test_split(x,y,test_size=0.2,random_state=0)"
   ]
  },
  {
   "cell_type": "code",
   "execution_count": 36,
   "id": "8b520b76",
   "metadata": {},
   "outputs": [],
   "source": [
    "mse = []\n",
    "r2 = []\n",
    "for i in range (1,10):\n",
    "    model = KNeighborsRegressor(n_neighbors=i)\n",
    "    model.fit(x_train,y_train)\n",
    "    y_pred = model.predict(x_test)\n",
    "    mse_i = mean_squared_error(y_test,y_pred)\n",
    "    mse.append(mse_i)\n",
    "    r2_i=r2_score(y_test,y_pred)\n",
    "    r2.append(r2_i)"
   ]
  },
  {
   "cell_type": "code",
   "execution_count": 38,
   "id": "400f8372",
   "metadata": {},
   "outputs": [],
   "source": [
    "model=KNeighborsRegressor(n_neighbors=2)\n",
    "model.fit(x_train,y_train)\n",
    "y_pred=model.predict(x_test)"
   ]
  },
  {
   "cell_type": "code",
   "execution_count": 39,
   "id": "b0151c94",
   "metadata": {},
   "outputs": [
    {
     "data": {
      "text/plain": [
       "0.8028411170170824"
      ]
     },
     "execution_count": 39,
     "metadata": {},
     "output_type": "execute_result"
    }
   ],
   "source": [
    "r2_score(y_test,y_pred)"
   ]
  },
  {
   "cell_type": "code",
   "execution_count": null,
   "id": "13acdcde",
   "metadata": {},
   "outputs": [],
   "source": []
  }
 ],
 "metadata": {
  "kernelspec": {
   "display_name": "Python 3 (ipykernel)",
   "language": "python",
   "name": "python3"
  },
  "language_info": {
   "codemirror_mode": {
    "name": "ipython",
    "version": 3
   },
   "file_extension": ".py",
   "mimetype": "text/x-python",
   "name": "python",
   "nbconvert_exporter": "python",
   "pygments_lexer": "ipython3",
   "version": "3.9.7"
  }
 },
 "nbformat": 4,
 "nbformat_minor": 5
}
